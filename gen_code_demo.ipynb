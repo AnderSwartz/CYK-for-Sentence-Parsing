{
 "cells": [
  {
   "cell_type": "code",
   "execution_count": 16,
   "id": "65c3562b",
   "metadata": {},
   "outputs": [
    {
     "name": "stdout",
     "output_type": "stream",
     "text": [
      "\n"
     ]
    }
   ],
   "source": [
    "import collections\n",
    "import trees\n",
    "import pickle\n",
    "\n",
    "with open('sample.vars','rb') as f:\n",
    "    # These sample variables are the result of treating the first 3 sentences as our entire training data\n",
    "    sample_vars = pickle.load(f)\n",
    "\n",
    "def read_trees(fname):\n",
    "    \"\"\"Read in all trees from a given file\n",
    "    input: filename\n",
    "    outputs: rule lookup dictionary, count of each rule seen\"\"\"\n",
    "    # Replace this with your code, for now I put a placeholder in\n",
    "    rules_lookup = sample_vars[0]\n",
    "    rule_counts = sample_vars[1]\n",
    "    return rules_lookup, rule_counts\n",
    "\n",
    "fname = 'train.trees.pre.unk'\n",
    "rules_lookup, rule_counts = read_trees(fname)\n",
    "''' Format of rules_lookup provided is:\n",
    "    key = RHS of rule\n",
    "    value = set of valid LHS of rules\n",
    "    For example:\n",
    "    rules_lookup['the'] = {'DT'} corresponds to rule DT -> the\n",
    "    rules_lookup['stop'] = {'VBP','NN'} corresponds to rules stop -> VBP and stop -> NN'''\n",
    "\n",
    "\n",
    "''' Format of rule_counts provided is:\n",
    "    key = rule as tuple of (LHS, RHS)\n",
    "    value = how many times that rule was seen in the data\n",
    "    For example:\n",
    "    rule_counts[('PP', ('IN', 'NP_NNP'))] = 4\n",
    "    rule_counts[('DT', 'this')] = 1'''\n",
    "print()"
   ]
  },
  {
   "cell_type": "code",
   "execution_count": 20,
   "id": "58d537de",
   "metadata": {},
   "outputs": [
    {
     "data": {
      "text/plain": [
       "{'NP'}"
      ]
     },
     "execution_count": 20,
     "metadata": {},
     "output_type": "execute_result"
    }
   ],
   "source": [
    "rules_lookup['DT', 'NN']"
   ]
  },
  {
   "cell_type": "code",
   "execution_count": 22,
   "id": "d4d7d61e",
   "metadata": {},
   "outputs": [
    {
     "data": {
      "text/plain": [
       "3"
      ]
     },
     "execution_count": 22,
     "metadata": {},
     "output_type": "execute_result"
    }
   ],
   "source": [
    "rule_counts['NP',('DT','NN')]"
   ]
  },
  {
   "cell_type": "code",
   "execution_count": 4,
   "id": "ceb5c840",
   "metadata": {},
   "outputs": [
    {
     "data": {
      "text/plain": [
       "1"
      ]
     },
     "execution_count": 4,
     "metadata": {},
     "output_type": "execute_result"
    }
   ],
   "source": [
    "rule_counts['VBP','stop']"
   ]
  },
  {
   "cell_type": "code",
   "execution_count": 5,
   "id": "7d46d9a7",
   "metadata": {},
   "outputs": [
    {
     "name": "stdout",
     "output_type": "stream",
     "text": [
      "\n"
     ]
    }
   ],
   "source": [
    "def get_probs(rules_lookup, rule_counts):\n",
    "    \"\"\"Given the rules_lookup dictionary and the total count of rules\n",
    "    return a dictionary with keys as rules and values as probabilities\"\"\"\n",
    "    grammar = sample_vars[2]\n",
    "    return grammar\n",
    "\n",
    "grammar = get_probs(rules_lookup, rule_counts)\n",
    "''' Format of grammar provided is:\n",
    "    key = rule as tuple of (LHS, RHS)\n",
    "    value = conditional probability of RHS given LHS\n",
    "    For example:\n",
    "    grammar[('PP', ('IN', 'NP_NNP'))] = 0.66666666\n",
    "    grammar[('DT', 'this')] = 0.25'''\n",
    "print()"
   ]
  },
  {
   "cell_type": "code",
   "execution_count": 6,
   "id": "146ba297",
   "metadata": {},
   "outputs": [
    {
     "data": {
      "text/plain": [
       "0.3333333333333333"
      ]
     },
     "execution_count": 6,
     "metadata": {},
     "output_type": "execute_result"
    }
   ],
   "source": [
    "grammar['NN','stop']"
   ]
  },
  {
   "cell_type": "code",
   "execution_count": 7,
   "id": "bc296590",
   "metadata": {},
   "outputs": [
    {
     "data": {
      "text/plain": [
       "0.5"
      ]
     },
     "execution_count": 7,
     "metadata": {},
     "output_type": "execute_result"
    }
   ],
   "source": [
    "grammar['VBP','stop']"
   ]
  },
  {
   "cell_type": "code",
   "execution_count": 8,
   "id": "9c638231",
   "metadata": {},
   "outputs": [
    {
     "name": "stdout",
     "output_type": "stream",
     "text": [
      "\n"
     ]
    }
   ],
   "source": [
    "def CKY(sent, grammar):\n",
    "    \"\"\"Given a space separated sentence and your grammar,\n",
    "    run CKY to fill the chart with the highest probability partial parses.\n",
    "    Return the filled in chart from CKY\"\"\"\n",
    "    chart = sample_vars[3]\n",
    "    return chart\n",
    "\n",
    "sent = sample_vars[4]\n",
    "chart = CKY(sent, grammar)\n",
    "''' Format of chart provided is:\n",
    "    chart[row][column] = dictionary with:\n",
    "        key = parse for that span (LHS of rule applied)\n",
    "        value = [weight, RHS of rule applied, index of first word  of span (i), split index (x), diagonal # (diagonals)]\n",
    "    For example:\n",
    "    chart[0][0]['VBZ'] = [1.0, 'Does', 0, None, None]\n",
    "    weight is 1.0, RHS of rule is Does, comes from word 0, there is no split, there is no diagonal #\n",
    "    \n",
    "    chart[0][-1]['TOP'] = [0.000992063492063492, ('SQ', 'PUNC'), 0, 4, 5]\n",
    "    weight is 0.00099, RHS of rule is ('SQ', 'PUNC'), starts at word 0, splits after word index 4, 5th diagonal processed\n",
    "    '''\n",
    "print()"
   ]
  },
  {
   "cell_type": "code",
   "execution_count": 9,
   "id": "48c3f029",
   "metadata": {},
   "outputs": [
    {
     "data": {
      "text/plain": [
       "'Does this flight serve dinner ?'"
      ]
     },
     "execution_count": 9,
     "metadata": {},
     "output_type": "execute_result"
    }
   ],
   "source": [
    "sent"
   ]
  },
  {
   "cell_type": "code",
   "execution_count": 24,
   "id": "5c27e00f",
   "metadata": {},
   "outputs": [
    {
     "data": {
      "text/plain": [
       "{'TOP': [0.000992063492063492, ('SQ', 'PUNC'), 0, 4, 5]}"
      ]
     },
     "execution_count": 24,
     "metadata": {},
     "output_type": "execute_result"
    }
   ],
   "source": [
    "chart[0][-1]"
   ]
  },
  {
   "cell_type": "code",
   "execution_count": 25,
   "id": "77f1a794",
   "metadata": {},
   "outputs": [
    {
     "name": "stdout",
     "output_type": "stream",
     "text": [
      "Weight of this parse  0.000992063492063492\n",
      "Rule applied to get here  ('SQ', 'PUNC')\n",
      "Left child entry  {'SQ': [0.008928571428571428, ('VBZ', 'SQ*'), 0, 0, 4]}\n",
      "Right child entry  {'PUNC': [0.3333333333333333, '?', 5, None, None]}\n"
     ]
    }
   ],
   "source": [
    "weight, rule, i, x, diagonals = chart[0][-1]['TOP']\n",
    "print('Weight of this parse ',weight)\n",
    "print('Rule applied to get here ', rule)\n",
    "print('Left child entry ', chart[i][i+x])\n",
    "print('Right child entry ', chart[i+x+1][i+diagonals])"
   ]
  },
  {
   "cell_type": "code",
   "execution_count": 12,
   "id": "b983d3f6",
   "metadata": {},
   "outputs": [
    {
     "name": "stdout",
     "output_type": "stream",
     "text": [
      "\n"
     ]
    }
   ],
   "source": [
    "def parse(chart, s='TOP', row=0, col=-1):\n",
    "    \"\"\"Given the following:\n",
    "    chart - filled in chart from CKY\n",
    "    s - used for recursion, starts with 'TOP'\n",
    "    row - the index of the row that i appears in\n",
    "    col - the index of the column that s appears in\n",
    "    This will be recursive, with s row and col changing\"\"\"\n",
    "    parse_string = sample_vars[5]\n",
    "    return parse_string\n",
    "\n",
    "parse_string = parse(chart)\n",
    "''' Format of parse_string matches train.trees'''\n",
    "print()"
   ]
  },
  {
   "cell_type": "code",
   "execution_count": 13,
   "id": "2272aa4a",
   "metadata": {},
   "outputs": [
    {
     "data": {
      "text/plain": [
       "'(TOP (SQ (VBZ Does) (SQ* (NP (DT this) (NN flight)) (VP (VB serve) (NP_NN dinner)))) (PUNC ?))'"
      ]
     },
     "execution_count": 13,
     "metadata": {},
     "output_type": "execute_result"
    }
   ],
   "source": [
    "parse_string"
   ]
  },
  {
   "cell_type": "code",
   "execution_count": 14,
   "id": "72e50090",
   "metadata": {},
   "outputs": [
    {
     "name": "stdout",
     "output_type": "stream",
     "text": [
      "                TOP\n",
      "        ┌────────┴─────────┐\n",
      "        SQ                PUNC\n",
      "  ┌─────┴─────┐            │\n",
      " VBZ         SQ*           ?\n",
      "  │     ┌─────┴─────┐\n",
      "Does    NP          VP\n",
      "     ┌──┴──┐     ┌──┴───┐\n",
      "     DT    NN    VB   NP_NN\n",
      "     │     │     │      │\n",
      "   this flight serve dinner\n"
     ]
    }
   ],
   "source": [
    "resulting_tree = trees.Tree.from_str(parse_string)\n",
    "print(resulting_tree.pretty_print())"
   ]
  },
  {
   "cell_type": "code",
   "execution_count": null,
   "id": "450cf84f",
   "metadata": {},
   "outputs": [],
   "source": []
  }
 ],
 "metadata": {
  "kernelspec": {
   "display_name": "Python 3 (ipykernel)",
   "language": "python",
   "name": "python3"
  },
  "language_info": {
   "codemirror_mode": {
    "name": "ipython",
    "version": 3
   },
   "file_extension": ".py",
   "mimetype": "text/x-python",
   "name": "python",
   "nbconvert_exporter": "python",
   "pygments_lexer": "ipython3",
   "version": "3.8.10"
  }
 },
 "nbformat": 4,
 "nbformat_minor": 5
}
